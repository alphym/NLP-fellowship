{
  "cells": [
    {
      "cell_type": "markdown",
      "metadata": {
        "id": "view-in-github",
        "colab_type": "text"
      },
      "source": [
        "<a href=\"https://colab.research.google.com/github/alphym/NLP-fellowship/blob/main/igihe_scrapping.ipynb\" target=\"_parent\"><img src=\"https://colab.research.google.com/assets/colab-badge.svg\" alt=\"Open In Colab\"/></a>"
      ]
    },
    {
      "cell_type": "markdown",
      "source": [
        "## Assignment\n",
        "Based on the above, get the main articles from igihe from February 2022 - present\n",
        "\n",
        "Steps to do this\n",
        "\n",
        "\n",
        "1.   Get the links to the main pages from january. Create a list\n",
        "2.   In each link, get all the links to the main articles\n",
        "3.   For each article, get the main tag that holds the texts\n",
        "4.   Get the text and store them in a txt file. The data will be used in week 2\n",
        "5.   Each article its own txt file. Naming is the date_article_1\n"
      ],
      "metadata": {
        "id": "UaMjYHQgRjwK"
      }
    },
    {
      "cell_type": "code",
      "execution_count": 2,
      "metadata": {
        "id": "MYsT11VGSX8E"
      },
      "outputs": [],
      "source": [
        "import requests\n",
        "from bs4 import BeautifulSoup\n",
        "import pandas as pd"
      ]
    },
    {
      "cell_type": "code",
      "execution_count": 3,
      "metadata": {
        "id": "oTo4TVTPTC4D"
      },
      "outputs": [],
      "source": [
        "snap = []\n",
        "err = []\n",
        "for month in range(1,11):\n",
        "    for day in range(1,32):\n",
        "        link = requests.get(url='http://archive.org/wayback/available?url=igihe.com&timestamp=2022{:02d}{:02d}'.format(month, day))\n",
        "        try:\n",
        "            if link.json()['archived_snapshots']['closest']['available']:\n",
        "              #we store each snapshot link into snap list\n",
        "                snap.append(link.json()['archived_snapshots']['closest']['url'])\n",
        "        except KeyError:\n",
        "            err.append(link.json())\n",
        "            "
      ]
    },
    {
      "cell_type": "code",
      "execution_count": 4,
      "metadata": {
        "id": "XFttToNJUJWO",
        "colab": {
          "base_uri": "https://localhost:8080/"
        },
        "outputId": "9269d148-c893-4af3-c9a1-53a67274cad7"
      },
      "outputs": [
        {
          "output_type": "execute_result",
          "data": {
            "text/plain": [
              "1"
            ]
          },
          "metadata": {},
          "execution_count": 4
        }
      ],
      "source": [
        "len(snap)"
      ]
    },
    {
      "cell_type": "code",
      "execution_count": 5,
      "metadata": {
        "id": "DNhp-2TdURKf"
      },
      "outputs": [],
      "source": [
        "snap_set  = set(snap)"
      ]
    },
    {
      "cell_type": "code",
      "execution_count": 6,
      "metadata": {
        "id": "6CMMbNlqUXdh",
        "colab": {
          "base_uri": "https://localhost:8080/"
        },
        "outputId": "47da85e6-490f-400c-bb2e-e1795f15732a"
      },
      "outputs": [
        {
          "output_type": "execute_result",
          "data": {
            "text/plain": [
              "1"
            ]
          },
          "metadata": {},
          "execution_count": 6
        }
      ],
      "source": [
        "snap_r = list(snap_set)\n",
        "len(snap_r)"
      ]
    },
    {
      "cell_type": "code",
      "execution_count": 7,
      "metadata": {
        "id": "v0m2_0i7Uef5"
      },
      "outputs": [],
      "source": [
        "#Fetch all the titles and their link from wayback archivr\n",
        "\n",
        "links_art = []\n",
        "\n",
        "for lin in snap_r:\n",
        "  content = requests.get(lin).content #pass each snapshot link to the requests\n",
        "  soup =  BeautifulSoup(content, \"html.parser\") #pass each snapshot content html parser\n",
        "  articles = soup.find_all('span', class_=\"homenews-title\") #look for all title in the snapshot\n",
        "  links_art.append(articles)"
      ]
    },
    {
      "cell_type": "code",
      "execution_count": 8,
      "metadata": {
        "id": "7F0HCiEJYGdU",
        "colab": {
          "base_uri": "https://localhost:8080/"
        },
        "outputId": "835c2ba4-aa8f-4a1b-9146-efa9b2f5591e"
      },
      "outputs": [
        {
          "output_type": "execute_result",
          "data": {
            "text/plain": [
              "1"
            ]
          },
          "metadata": {},
          "execution_count": 8
        }
      ],
      "source": [
        "len(list(snap_r))"
      ]
    },
    {
      "cell_type": "code",
      "execution_count": 9,
      "metadata": {
        "id": "ew-hOTe0XVjb"
      },
      "outputs": [],
      "source": [
        "#Actual link\n",
        "snapshot_link = []\n",
        "title_ = []\n",
        "\n",
        "#Loop all the 184 snapshots\n",
        "for index, snapshot in enumerate(list(snap_r)):\n",
        "  #In each title assign it's snapshop prefix link\n",
        "  for title in links_art[index]:\n",
        "    snapshot_link.append(snapshot)\n",
        "    title_.append(str(title.find('a')['href']))"
      ]
    },
    {
      "cell_type": "code",
      "execution_count": 10,
      "metadata": {
        "id": "qSw8CK9CXnOH",
        "colab": {
          "base_uri": "https://localhost:8080/"
        },
        "outputId": "441eae36-7a70-47d8-aa15-38af5e15fe5c"
      },
      "outputs": [
        {
          "output_type": "execute_result",
          "data": {
            "text/plain": [
              "73"
            ]
          },
          "metadata": {},
          "execution_count": 10
        }
      ],
      "source": [
        "len(snapshot_link)"
      ]
    },
    {
      "cell_type": "code",
      "execution_count": 11,
      "metadata": {
        "id": "AW4e0KU_bCkC"
      },
      "outputs": [],
      "source": [
        "df = pd.DataFrame(list(zip(snapshot_link, title_)), columns=['Prefix', 'Title'])"
      ]
    },
    {
      "cell_type": "code",
      "execution_count": 12,
      "metadata": {
        "id": "bJJd_u9GbHKh",
        "colab": {
          "base_uri": "https://localhost:8080/",
          "height": 206
        },
        "outputId": "24a8f10c-8cd5-4892-b6e5-8ac25cda810b"
      },
      "outputs": [
        {
          "output_type": "execute_result",
          "data": {
            "text/plain": [
              "                                              Prefix  \\\n",
              "0  http://web.archive.org/web/20220205000025/http...   \n",
              "1  http://web.archive.org/web/20220205000025/http...   \n",
              "2  http://web.archive.org/web/20220205000025/http...   \n",
              "3  http://web.archive.org/web/20220205000025/http...   \n",
              "4  http://web.archive.org/web/20220205000025/http...   \n",
              "\n",
              "                                               Title  \n",
              "0  amakuru/u-rwanda/article/huye-abanyamadini-n-a...  \n",
              "1  imyidagaduro/article/rutayisire-uherutse-kwinj...  \n",
              "2  imyidagaduro/sinema/article/menya-zimwe-muri-f...  \n",
              "3  amakuru/u-rwanda/article/iburasirazuba-guverin...  \n",
              "4  amakuru/u-rwanda/article/umubyeyi-wateganyirij...  "
            ],
            "text/html": [
              "\n",
              "  <div id=\"df-8a718911-4685-41d4-96a0-5d0e1462c993\">\n",
              "    <div class=\"colab-df-container\">\n",
              "      <div>\n",
              "<style scoped>\n",
              "    .dataframe tbody tr th:only-of-type {\n",
              "        vertical-align: middle;\n",
              "    }\n",
              "\n",
              "    .dataframe tbody tr th {\n",
              "        vertical-align: top;\n",
              "    }\n",
              "\n",
              "    .dataframe thead th {\n",
              "        text-align: right;\n",
              "    }\n",
              "</style>\n",
              "<table border=\"1\" class=\"dataframe\">\n",
              "  <thead>\n",
              "    <tr style=\"text-align: right;\">\n",
              "      <th></th>\n",
              "      <th>Prefix</th>\n",
              "      <th>Title</th>\n",
              "    </tr>\n",
              "  </thead>\n",
              "  <tbody>\n",
              "    <tr>\n",
              "      <th>0</th>\n",
              "      <td>http://web.archive.org/web/20220205000025/http...</td>\n",
              "      <td>amakuru/u-rwanda/article/huye-abanyamadini-n-a...</td>\n",
              "    </tr>\n",
              "    <tr>\n",
              "      <th>1</th>\n",
              "      <td>http://web.archive.org/web/20220205000025/http...</td>\n",
              "      <td>imyidagaduro/article/rutayisire-uherutse-kwinj...</td>\n",
              "    </tr>\n",
              "    <tr>\n",
              "      <th>2</th>\n",
              "      <td>http://web.archive.org/web/20220205000025/http...</td>\n",
              "      <td>imyidagaduro/sinema/article/menya-zimwe-muri-f...</td>\n",
              "    </tr>\n",
              "    <tr>\n",
              "      <th>3</th>\n",
              "      <td>http://web.archive.org/web/20220205000025/http...</td>\n",
              "      <td>amakuru/u-rwanda/article/iburasirazuba-guverin...</td>\n",
              "    </tr>\n",
              "    <tr>\n",
              "      <th>4</th>\n",
              "      <td>http://web.archive.org/web/20220205000025/http...</td>\n",
              "      <td>amakuru/u-rwanda/article/umubyeyi-wateganyirij...</td>\n",
              "    </tr>\n",
              "  </tbody>\n",
              "</table>\n",
              "</div>\n",
              "      <button class=\"colab-df-convert\" onclick=\"convertToInteractive('df-8a718911-4685-41d4-96a0-5d0e1462c993')\"\n",
              "              title=\"Convert this dataframe to an interactive table.\"\n",
              "              style=\"display:none;\">\n",
              "        \n",
              "  <svg xmlns=\"http://www.w3.org/2000/svg\" height=\"24px\"viewBox=\"0 0 24 24\"\n",
              "       width=\"24px\">\n",
              "    <path d=\"M0 0h24v24H0V0z\" fill=\"none\"/>\n",
              "    <path d=\"M18.56 5.44l.94 2.06.94-2.06 2.06-.94-2.06-.94-.94-2.06-.94 2.06-2.06.94zm-11 1L8.5 8.5l.94-2.06 2.06-.94-2.06-.94L8.5 2.5l-.94 2.06-2.06.94zm10 10l.94 2.06.94-2.06 2.06-.94-2.06-.94-.94-2.06-.94 2.06-2.06.94z\"/><path d=\"M17.41 7.96l-1.37-1.37c-.4-.4-.92-.59-1.43-.59-.52 0-1.04.2-1.43.59L10.3 9.45l-7.72 7.72c-.78.78-.78 2.05 0 2.83L4 21.41c.39.39.9.59 1.41.59.51 0 1.02-.2 1.41-.59l7.78-7.78 2.81-2.81c.8-.78.8-2.07 0-2.86zM5.41 20L4 18.59l7.72-7.72 1.47 1.35L5.41 20z\"/>\n",
              "  </svg>\n",
              "      </button>\n",
              "      \n",
              "  <style>\n",
              "    .colab-df-container {\n",
              "      display:flex;\n",
              "      flex-wrap:wrap;\n",
              "      gap: 12px;\n",
              "    }\n",
              "\n",
              "    .colab-df-convert {\n",
              "      background-color: #E8F0FE;\n",
              "      border: none;\n",
              "      border-radius: 50%;\n",
              "      cursor: pointer;\n",
              "      display: none;\n",
              "      fill: #1967D2;\n",
              "      height: 32px;\n",
              "      padding: 0 0 0 0;\n",
              "      width: 32px;\n",
              "    }\n",
              "\n",
              "    .colab-df-convert:hover {\n",
              "      background-color: #E2EBFA;\n",
              "      box-shadow: 0px 1px 2px rgba(60, 64, 67, 0.3), 0px 1px 3px 1px rgba(60, 64, 67, 0.15);\n",
              "      fill: #174EA6;\n",
              "    }\n",
              "\n",
              "    [theme=dark] .colab-df-convert {\n",
              "      background-color: #3B4455;\n",
              "      fill: #D2E3FC;\n",
              "    }\n",
              "\n",
              "    [theme=dark] .colab-df-convert:hover {\n",
              "      background-color: #434B5C;\n",
              "      box-shadow: 0px 1px 3px 1px rgba(0, 0, 0, 0.15);\n",
              "      filter: drop-shadow(0px 1px 2px rgba(0, 0, 0, 0.3));\n",
              "      fill: #FFFFFF;\n",
              "    }\n",
              "  </style>\n",
              "\n",
              "      <script>\n",
              "        const buttonEl =\n",
              "          document.querySelector('#df-8a718911-4685-41d4-96a0-5d0e1462c993 button.colab-df-convert');\n",
              "        buttonEl.style.display =\n",
              "          google.colab.kernel.accessAllowed ? 'block' : 'none';\n",
              "\n",
              "        async function convertToInteractive(key) {\n",
              "          const element = document.querySelector('#df-8a718911-4685-41d4-96a0-5d0e1462c993');\n",
              "          const dataTable =\n",
              "            await google.colab.kernel.invokeFunction('convertToInteractive',\n",
              "                                                     [key], {});\n",
              "          if (!dataTable) return;\n",
              "\n",
              "          const docLinkHtml = 'Like what you see? Visit the ' +\n",
              "            '<a target=\"_blank\" href=https://colab.research.google.com/notebooks/data_table.ipynb>data table notebook</a>'\n",
              "            + ' to learn more about interactive tables.';\n",
              "          element.innerHTML = '';\n",
              "          dataTable['output_type'] = 'display_data';\n",
              "          await google.colab.output.renderOutput(dataTable, element);\n",
              "          const docLink = document.createElement('div');\n",
              "          docLink.innerHTML = docLinkHtml;\n",
              "          element.appendChild(docLink);\n",
              "        }\n",
              "      </script>\n",
              "    </div>\n",
              "  </div>\n",
              "  "
            ]
          },
          "metadata": {},
          "execution_count": 12
        }
      ],
      "source": [
        "df.head(5)"
      ]
    },
    {
      "cell_type": "code",
      "execution_count": 13,
      "metadata": {
        "id": "HByUy-8JbMSp",
        "colab": {
          "base_uri": "https://localhost:8080/",
          "height": 175
        },
        "outputId": "e42aa46f-5e66-4641-f879-142bbeda81e6"
      },
      "outputs": [
        {
          "output_type": "execute_result",
          "data": {
            "text/plain": [
              "                                                   Prefix  \\\n",
              "count                                                  73   \n",
              "unique                                                  1   \n",
              "top     http://web.archive.org/web/20220205000025/http...   \n",
              "freq                                                   73   \n",
              "\n",
              "                                                    Title  \n",
              "count                                                  73  \n",
              "unique                                                 71  \n",
              "top     imyidagaduro/sinema/article/menya-zimwe-muri-f...  \n",
              "freq                                                    2  "
            ],
            "text/html": [
              "\n",
              "  <div id=\"df-edaed370-7045-450a-a676-6b2caeb8abed\">\n",
              "    <div class=\"colab-df-container\">\n",
              "      <div>\n",
              "<style scoped>\n",
              "    .dataframe tbody tr th:only-of-type {\n",
              "        vertical-align: middle;\n",
              "    }\n",
              "\n",
              "    .dataframe tbody tr th {\n",
              "        vertical-align: top;\n",
              "    }\n",
              "\n",
              "    .dataframe thead th {\n",
              "        text-align: right;\n",
              "    }\n",
              "</style>\n",
              "<table border=\"1\" class=\"dataframe\">\n",
              "  <thead>\n",
              "    <tr style=\"text-align: right;\">\n",
              "      <th></th>\n",
              "      <th>Prefix</th>\n",
              "      <th>Title</th>\n",
              "    </tr>\n",
              "  </thead>\n",
              "  <tbody>\n",
              "    <tr>\n",
              "      <th>count</th>\n",
              "      <td>73</td>\n",
              "      <td>73</td>\n",
              "    </tr>\n",
              "    <tr>\n",
              "      <th>unique</th>\n",
              "      <td>1</td>\n",
              "      <td>71</td>\n",
              "    </tr>\n",
              "    <tr>\n",
              "      <th>top</th>\n",
              "      <td>http://web.archive.org/web/20220205000025/http...</td>\n",
              "      <td>imyidagaduro/sinema/article/menya-zimwe-muri-f...</td>\n",
              "    </tr>\n",
              "    <tr>\n",
              "      <th>freq</th>\n",
              "      <td>73</td>\n",
              "      <td>2</td>\n",
              "    </tr>\n",
              "  </tbody>\n",
              "</table>\n",
              "</div>\n",
              "      <button class=\"colab-df-convert\" onclick=\"convertToInteractive('df-edaed370-7045-450a-a676-6b2caeb8abed')\"\n",
              "              title=\"Convert this dataframe to an interactive table.\"\n",
              "              style=\"display:none;\">\n",
              "        \n",
              "  <svg xmlns=\"http://www.w3.org/2000/svg\" height=\"24px\"viewBox=\"0 0 24 24\"\n",
              "       width=\"24px\">\n",
              "    <path d=\"M0 0h24v24H0V0z\" fill=\"none\"/>\n",
              "    <path d=\"M18.56 5.44l.94 2.06.94-2.06 2.06-.94-2.06-.94-.94-2.06-.94 2.06-2.06.94zm-11 1L8.5 8.5l.94-2.06 2.06-.94-2.06-.94L8.5 2.5l-.94 2.06-2.06.94zm10 10l.94 2.06.94-2.06 2.06-.94-2.06-.94-.94-2.06-.94 2.06-2.06.94z\"/><path d=\"M17.41 7.96l-1.37-1.37c-.4-.4-.92-.59-1.43-.59-.52 0-1.04.2-1.43.59L10.3 9.45l-7.72 7.72c-.78.78-.78 2.05 0 2.83L4 21.41c.39.39.9.59 1.41.59.51 0 1.02-.2 1.41-.59l7.78-7.78 2.81-2.81c.8-.78.8-2.07 0-2.86zM5.41 20L4 18.59l7.72-7.72 1.47 1.35L5.41 20z\"/>\n",
              "  </svg>\n",
              "      </button>\n",
              "      \n",
              "  <style>\n",
              "    .colab-df-container {\n",
              "      display:flex;\n",
              "      flex-wrap:wrap;\n",
              "      gap: 12px;\n",
              "    }\n",
              "\n",
              "    .colab-df-convert {\n",
              "      background-color: #E8F0FE;\n",
              "      border: none;\n",
              "      border-radius: 50%;\n",
              "      cursor: pointer;\n",
              "      display: none;\n",
              "      fill: #1967D2;\n",
              "      height: 32px;\n",
              "      padding: 0 0 0 0;\n",
              "      width: 32px;\n",
              "    }\n",
              "\n",
              "    .colab-df-convert:hover {\n",
              "      background-color: #E2EBFA;\n",
              "      box-shadow: 0px 1px 2px rgba(60, 64, 67, 0.3), 0px 1px 3px 1px rgba(60, 64, 67, 0.15);\n",
              "      fill: #174EA6;\n",
              "    }\n",
              "\n",
              "    [theme=dark] .colab-df-convert {\n",
              "      background-color: #3B4455;\n",
              "      fill: #D2E3FC;\n",
              "    }\n",
              "\n",
              "    [theme=dark] .colab-df-convert:hover {\n",
              "      background-color: #434B5C;\n",
              "      box-shadow: 0px 1px 3px 1px rgba(0, 0, 0, 0.15);\n",
              "      filter: drop-shadow(0px 1px 2px rgba(0, 0, 0, 0.3));\n",
              "      fill: #FFFFFF;\n",
              "    }\n",
              "  </style>\n",
              "\n",
              "      <script>\n",
              "        const buttonEl =\n",
              "          document.querySelector('#df-edaed370-7045-450a-a676-6b2caeb8abed button.colab-df-convert');\n",
              "        buttonEl.style.display =\n",
              "          google.colab.kernel.accessAllowed ? 'block' : 'none';\n",
              "\n",
              "        async function convertToInteractive(key) {\n",
              "          const element = document.querySelector('#df-edaed370-7045-450a-a676-6b2caeb8abed');\n",
              "          const dataTable =\n",
              "            await google.colab.kernel.invokeFunction('convertToInteractive',\n",
              "                                                     [key], {});\n",
              "          if (!dataTable) return;\n",
              "\n",
              "          const docLinkHtml = 'Like what you see? Visit the ' +\n",
              "            '<a target=\"_blank\" href=https://colab.research.google.com/notebooks/data_table.ipynb>data table notebook</a>'\n",
              "            + ' to learn more about interactive tables.';\n",
              "          element.innerHTML = '';\n",
              "          dataTable['output_type'] = 'display_data';\n",
              "          await google.colab.output.renderOutput(dataTable, element);\n",
              "          const docLink = document.createElement('div');\n",
              "          docLink.innerHTML = docLinkHtml;\n",
              "          element.appendChild(docLink);\n",
              "        }\n",
              "      </script>\n",
              "    </div>\n",
              "  </div>\n",
              "  "
            ]
          },
          "metadata": {},
          "execution_count": 13
        }
      ],
      "source": [
        "df.describe()"
      ]
    },
    {
      "cell_type": "code",
      "source": [
        "df.drop_duplicates(['Title'])"
      ],
      "metadata": {
        "id": "LhrKjsm6qWba",
        "colab": {
          "base_uri": "https://localhost:8080/",
          "height": 424
        },
        "outputId": "509bbbad-bb58-4508-ce5b-592b484edfab"
      },
      "execution_count": 14,
      "outputs": [
        {
          "output_type": "execute_result",
          "data": {
            "text/plain": [
              "                                               Prefix  \\\n",
              "0   http://web.archive.org/web/20220205000025/http...   \n",
              "1   http://web.archive.org/web/20220205000025/http...   \n",
              "2   http://web.archive.org/web/20220205000025/http...   \n",
              "3   http://web.archive.org/web/20220205000025/http...   \n",
              "4   http://web.archive.org/web/20220205000025/http...   \n",
              "..                                                ...   \n",
              "66  http://web.archive.org/web/20220205000025/http...   \n",
              "69  http://web.archive.org/web/20220205000025/http...   \n",
              "70  http://web.archive.org/web/20220205000025/http...   \n",
              "71  http://web.archive.org/web/20220205000025/http...   \n",
              "72  http://web.archive.org/web/20220205000025/http...   \n",
              "\n",
              "                                                Title  \n",
              "0   amakuru/u-rwanda/article/huye-abanyamadini-n-a...  \n",
              "1   imyidagaduro/article/rutayisire-uherutse-kwinj...  \n",
              "2   imyidagaduro/sinema/article/menya-zimwe-muri-f...  \n",
              "3   amakuru/u-rwanda/article/iburasirazuba-guverin...  \n",
              "4   amakuru/u-rwanda/article/umubyeyi-wateganyirij...  \n",
              "..                                                ...  \n",
              "66  ubutabera-2047/article/ubushinjacyaha-bwamagan...  \n",
              "69  ikoranabuhanga/mobayilo/article/menya-smartpho...  \n",
              "70  ikoranabuhanga/article/sosiyete-ya-elon-musk-i...  \n",
              "71  abantu/kubaho/urukundo/article/shyaka-olivier-...  \n",
              "72  abantu/kubaho/urukundo/article/rutanga-eric-n-...  \n",
              "\n",
              "[71 rows x 2 columns]"
            ],
            "text/html": [
              "\n",
              "  <div id=\"df-98284766-edbd-46d5-b156-e8497d9cddb2\">\n",
              "    <div class=\"colab-df-container\">\n",
              "      <div>\n",
              "<style scoped>\n",
              "    .dataframe tbody tr th:only-of-type {\n",
              "        vertical-align: middle;\n",
              "    }\n",
              "\n",
              "    .dataframe tbody tr th {\n",
              "        vertical-align: top;\n",
              "    }\n",
              "\n",
              "    .dataframe thead th {\n",
              "        text-align: right;\n",
              "    }\n",
              "</style>\n",
              "<table border=\"1\" class=\"dataframe\">\n",
              "  <thead>\n",
              "    <tr style=\"text-align: right;\">\n",
              "      <th></th>\n",
              "      <th>Prefix</th>\n",
              "      <th>Title</th>\n",
              "    </tr>\n",
              "  </thead>\n",
              "  <tbody>\n",
              "    <tr>\n",
              "      <th>0</th>\n",
              "      <td>http://web.archive.org/web/20220205000025/http...</td>\n",
              "      <td>amakuru/u-rwanda/article/huye-abanyamadini-n-a...</td>\n",
              "    </tr>\n",
              "    <tr>\n",
              "      <th>1</th>\n",
              "      <td>http://web.archive.org/web/20220205000025/http...</td>\n",
              "      <td>imyidagaduro/article/rutayisire-uherutse-kwinj...</td>\n",
              "    </tr>\n",
              "    <tr>\n",
              "      <th>2</th>\n",
              "      <td>http://web.archive.org/web/20220205000025/http...</td>\n",
              "      <td>imyidagaduro/sinema/article/menya-zimwe-muri-f...</td>\n",
              "    </tr>\n",
              "    <tr>\n",
              "      <th>3</th>\n",
              "      <td>http://web.archive.org/web/20220205000025/http...</td>\n",
              "      <td>amakuru/u-rwanda/article/iburasirazuba-guverin...</td>\n",
              "    </tr>\n",
              "    <tr>\n",
              "      <th>4</th>\n",
              "      <td>http://web.archive.org/web/20220205000025/http...</td>\n",
              "      <td>amakuru/u-rwanda/article/umubyeyi-wateganyirij...</td>\n",
              "    </tr>\n",
              "    <tr>\n",
              "      <th>...</th>\n",
              "      <td>...</td>\n",
              "      <td>...</td>\n",
              "    </tr>\n",
              "    <tr>\n",
              "      <th>66</th>\n",
              "      <td>http://web.archive.org/web/20220205000025/http...</td>\n",
              "      <td>ubutabera-2047/article/ubushinjacyaha-bwamagan...</td>\n",
              "    </tr>\n",
              "    <tr>\n",
              "      <th>69</th>\n",
              "      <td>http://web.archive.org/web/20220205000025/http...</td>\n",
              "      <td>ikoranabuhanga/mobayilo/article/menya-smartpho...</td>\n",
              "    </tr>\n",
              "    <tr>\n",
              "      <th>70</th>\n",
              "      <td>http://web.archive.org/web/20220205000025/http...</td>\n",
              "      <td>ikoranabuhanga/article/sosiyete-ya-elon-musk-i...</td>\n",
              "    </tr>\n",
              "    <tr>\n",
              "      <th>71</th>\n",
              "      <td>http://web.archive.org/web/20220205000025/http...</td>\n",
              "      <td>abantu/kubaho/urukundo/article/shyaka-olivier-...</td>\n",
              "    </tr>\n",
              "    <tr>\n",
              "      <th>72</th>\n",
              "      <td>http://web.archive.org/web/20220205000025/http...</td>\n",
              "      <td>abantu/kubaho/urukundo/article/rutanga-eric-n-...</td>\n",
              "    </tr>\n",
              "  </tbody>\n",
              "</table>\n",
              "<p>71 rows × 2 columns</p>\n",
              "</div>\n",
              "      <button class=\"colab-df-convert\" onclick=\"convertToInteractive('df-98284766-edbd-46d5-b156-e8497d9cddb2')\"\n",
              "              title=\"Convert this dataframe to an interactive table.\"\n",
              "              style=\"display:none;\">\n",
              "        \n",
              "  <svg xmlns=\"http://www.w3.org/2000/svg\" height=\"24px\"viewBox=\"0 0 24 24\"\n",
              "       width=\"24px\">\n",
              "    <path d=\"M0 0h24v24H0V0z\" fill=\"none\"/>\n",
              "    <path d=\"M18.56 5.44l.94 2.06.94-2.06 2.06-.94-2.06-.94-.94-2.06-.94 2.06-2.06.94zm-11 1L8.5 8.5l.94-2.06 2.06-.94-2.06-.94L8.5 2.5l-.94 2.06-2.06.94zm10 10l.94 2.06.94-2.06 2.06-.94-2.06-.94-.94-2.06-.94 2.06-2.06.94z\"/><path d=\"M17.41 7.96l-1.37-1.37c-.4-.4-.92-.59-1.43-.59-.52 0-1.04.2-1.43.59L10.3 9.45l-7.72 7.72c-.78.78-.78 2.05 0 2.83L4 21.41c.39.39.9.59 1.41.59.51 0 1.02-.2 1.41-.59l7.78-7.78 2.81-2.81c.8-.78.8-2.07 0-2.86zM5.41 20L4 18.59l7.72-7.72 1.47 1.35L5.41 20z\"/>\n",
              "  </svg>\n",
              "      </button>\n",
              "      \n",
              "  <style>\n",
              "    .colab-df-container {\n",
              "      display:flex;\n",
              "      flex-wrap:wrap;\n",
              "      gap: 12px;\n",
              "    }\n",
              "\n",
              "    .colab-df-convert {\n",
              "      background-color: #E8F0FE;\n",
              "      border: none;\n",
              "      border-radius: 50%;\n",
              "      cursor: pointer;\n",
              "      display: none;\n",
              "      fill: #1967D2;\n",
              "      height: 32px;\n",
              "      padding: 0 0 0 0;\n",
              "      width: 32px;\n",
              "    }\n",
              "\n",
              "    .colab-df-convert:hover {\n",
              "      background-color: #E2EBFA;\n",
              "      box-shadow: 0px 1px 2px rgba(60, 64, 67, 0.3), 0px 1px 3px 1px rgba(60, 64, 67, 0.15);\n",
              "      fill: #174EA6;\n",
              "    }\n",
              "\n",
              "    [theme=dark] .colab-df-convert {\n",
              "      background-color: #3B4455;\n",
              "      fill: #D2E3FC;\n",
              "    }\n",
              "\n",
              "    [theme=dark] .colab-df-convert:hover {\n",
              "      background-color: #434B5C;\n",
              "      box-shadow: 0px 1px 3px 1px rgba(0, 0, 0, 0.15);\n",
              "      filter: drop-shadow(0px 1px 2px rgba(0, 0, 0, 0.3));\n",
              "      fill: #FFFFFF;\n",
              "    }\n",
              "  </style>\n",
              "\n",
              "      <script>\n",
              "        const buttonEl =\n",
              "          document.querySelector('#df-98284766-edbd-46d5-b156-e8497d9cddb2 button.colab-df-convert');\n",
              "        buttonEl.style.display =\n",
              "          google.colab.kernel.accessAllowed ? 'block' : 'none';\n",
              "\n",
              "        async function convertToInteractive(key) {\n",
              "          const element = document.querySelector('#df-98284766-edbd-46d5-b156-e8497d9cddb2');\n",
              "          const dataTable =\n",
              "            await google.colab.kernel.invokeFunction('convertToInteractive',\n",
              "                                                     [key], {});\n",
              "          if (!dataTable) return;\n",
              "\n",
              "          const docLinkHtml = 'Like what you see? Visit the ' +\n",
              "            '<a target=\"_blank\" href=https://colab.research.google.com/notebooks/data_table.ipynb>data table notebook</a>'\n",
              "            + ' to learn more about interactive tables.';\n",
              "          element.innerHTML = '';\n",
              "          dataTable['output_type'] = 'display_data';\n",
              "          await google.colab.output.renderOutput(dataTable, element);\n",
              "          const docLink = document.createElement('div');\n",
              "          docLink.innerHTML = docLinkHtml;\n",
              "          element.appendChild(docLink);\n",
              "        }\n",
              "      </script>\n",
              "    </div>\n",
              "  </div>\n",
              "  "
            ]
          },
          "metadata": {},
          "execution_count": 14
        }
      ]
    },
    {
      "cell_type": "code",
      "execution_count": 15,
      "metadata": {
        "id": "s69-7K8OblQB"
      },
      "outputs": [],
      "source": [
        "link = df['Prefix'][0] + df['Title'][0]\n",
        "\n",
        "content = requests.get(link).content\n",
        "\n",
        "raw_content = BeautifulSoup(content, 'html.parser')"
      ]
    },
    {
      "cell_type": "code",
      "execution_count": 16,
      "metadata": {
        "id": "txWL4AFEbvTm"
      },
      "outputs": [],
      "source": [
        "body = raw_content.find_all('div', class_=\"fulltext margintop10\") \n",
        "\n",
        "text = ''\n",
        "par_ = BeautifulSoup(str(body)).find_all('p')\n",
        "\n",
        "for line in par_:\n",
        "  text = text + '\\n' + line.get_text()\n",
        "\n"
      ]
    },
    {
      "cell_type": "code",
      "execution_count": 17,
      "metadata": {
        "id": "cZKoZ66McA0x"
      },
      "outputs": [],
      "source": [
        "def get_text(link):\n",
        "  content = requests.get(link).content\n",
        "  raw_content = BeautifulSoup(content, 'html.parser')\n",
        "\n",
        "  body = raw_content.find_all('div', class_=\"fulltext margintop10\") \n",
        "\n",
        "  text = ''\n",
        "  par_ = BeautifulSoup(str(body)).find_all('p')\n",
        "\n",
        "  for line in par_:\n",
        "    text = text + '\\n' + line.get_text()"
      ]
    },
    {
      "cell_type": "code",
      "execution_count": 18,
      "metadata": {
        "id": "5M2zWL61cOWK"
      },
      "outputs": [],
      "source": [
        "def get_article_text(link):\n",
        "  content = requests.get(link).content\n",
        "  body = BeautifulSoup(content, 'html.parser').find_all('div', class_='fulltext margintop10')\n",
        "\n",
        "  text = ''\n",
        "  try:\n",
        "    par_ = BeautifulSoup(str(body)).find_all('p')\n",
        "\n",
        "\n",
        "    for line in par_:\n",
        "      text = text + '\\n' + line.get_text()\n",
        "  except AttributeError:\n",
        "    pass\n",
        "  return text"
      ]
    },
    {
      "cell_type": "code",
      "execution_count": 19,
      "metadata": {
        "id": "a1idH10McVYT"
      },
      "outputs": [],
      "source": [
        "articles = []\n",
        "\n",
        "for index, article in enumerate(df['Title']):\n",
        "  link =df['Prefix'][index]+article\n",
        "  txt = get_article_text(link)\n",
        "  articles.append(txt)"
      ]
    },
    {
      "cell_type": "code",
      "source": [
        "from google.colab import drive\n",
        "drive.mount('/content/drive')"
      ],
      "metadata": {
        "id": "n-EuKhP4g_mL",
        "colab": {
          "base_uri": "https://localhost:8080/"
        },
        "outputId": "6a32397d-6f3d-4ce5-cc99-148dfe189412"
      },
      "execution_count": 20,
      "outputs": [
        {
          "output_type": "stream",
          "name": "stdout",
          "text": [
            "Drive already mounted at /content/drive; to attempt to forcibly remount, call drive.mount(\"/content/drive\", force_remount=True).\n"
          ]
        }
      ]
    },
    {
      "cell_type": "markdown",
      "source": [],
      "metadata": {
        "id": "qXdJ-5WNR_r4"
      }
    },
    {
      "cell_type": "code",
      "source": [
        "def get_all_text_file(index):\n",
        "  link = df['Prefix'][index] + df['Title'][index]\n",
        "\n",
        "  content = requests.get(link).content\n",
        "\n",
        "  raw_content = BeautifulSoup(content, 'html.parser')\n",
        "  body = raw_content.find_all('div', class_=\"fulltext margintop10\") \n",
        "\n",
        "  text = ''\n",
        "  par_ = BeautifulSoup(str(body)).find_all('p')\n",
        "\n",
        "  for line in par_:\n",
        "    text = text + '\\n' + line.get_text()\n",
        "  return text\n"
      ],
      "metadata": {
        "id": "y7iRkfqVbpUw"
      },
      "execution_count": 21,
      "outputs": []
    },
    {
      "cell_type": "code",
      "source": [
        "for index in range(len(df)):\n",
        "  new_t = get_all_text_file(index)\n",
        "  y = open('/content/drive/MyDrive/NLP-FELLOWSHIP/WEEK1-NLP/content.txt', 'w+',  encoding='utf-8')\n",
        "  y.write(new_t+' \\n')"
      ],
      "metadata": {
        "id": "G7psK9MwqoR0"
      },
      "execution_count": 22,
      "outputs": []
    }
  ],
  "metadata": {
    "accelerator": "GPU",
    "colab": {
      "provenance": [],
      "include_colab_link": true
    },
    "gpuClass": "standard",
    "kernelspec": {
      "display_name": "Python 3",
      "name": "python3"
    },
    "language_info": {
      "name": "python"
    }
  },
  "nbformat": 4,
  "nbformat_minor": 0
}