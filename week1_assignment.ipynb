{
  "cells": [
    {
      "cell_type": "markdown",
      "metadata": {
        "id": "view-in-github",
        "colab_type": "text"
      },
      "source": [
        "<a href=\"https://colab.research.google.com/github/alphym/NLP-fellowship/blob/main/week1_assignment.ipynb\" target=\"_parent\"><img src=\"https://colab.research.google.com/assets/colab-badge.svg\" alt=\"Open In Colab\"/></a>"
      ]
    },
    {
      "cell_type": "code",
      "execution_count": 28,
      "metadata": {
        "colab": {
          "base_uri": "https://localhost:8080/",
          "height": 424
        },
        "id": "ABRbGByNF56K",
        "outputId": "c0aa63a8-a679-4389-c4b6-163803dfb6a3"
      },
      "outputs": [
        {
          "output_type": "execute_result",
          "data": {
            "text/plain": [
              "                ID                                            English  \\\n",
              "0      id_ifvtmxw8        f_all back to threading messages by subject   \n",
              "1      id_sbxupxe3  you will have to restart gimp for the followin...   \n",
              "2      id_zocz3pxq  the radio button whose group this widget belon...   \n",
              "3      id_6avbj1ys           print all subdirectories in a directory.   \n",
              "4      id_fw4v44wk  paste the contents of the clipboard as a new i...   \n",
              "...            ...                                                ...   \n",
              "20585  id_t3d2ird5  yes. we plan to support major ccd cameras and ...   \n",
              "20586  id_jwvp5zdj  most likely you did not configure correctly (o...   \n",
              "20587  id_li4baed3  ... too numerous others to mention who also le...   \n",
              "20588  id_jmr2t84u  & kiten; can deinflect verbs you search for. t...   \n",
              "20589  id_3bg7kz98  next you will find a full overview on all comm...   \n",
              "\n",
              "                                             Kinyarwanda  \n",
              "0                     inyuma kuri ubutumwa ku ikivugwaho  \n",
              "1      kuri ongera utangire kugirango i amahinduka ku...  \n",
              "2                           akabuto bya itsinda iyi kuri  \n",
              "3              byose ububiko bwungirije in a bushyinguro  \n",
              "4      i ibigize bya i ububikokoporora nka a gishya i...  \n",
              "...                                                  ...  \n",
              "20585  . kuri gushigikira na na gushigikira ya: biren...  \n",
              "20586  oya kugena imiterere (cyangwa oya ku byose?) i...  \n",
              "20587            ... ibindi: kuri na bayite bya bidakora  \n",
              "20588  & kiten; shakisha ya:. gushoboza iyi, ubwoko i...  \n",
              "20589  gushaka a cyuzuye incamake ku byose amabwiriza...  \n",
              "\n",
              "[20590 rows x 3 columns]"
            ],
            "text/html": [
              "\n",
              "  <div id=\"df-badb799d-b79d-4feb-9a56-d77a86f0ccdf\">\n",
              "    <div class=\"colab-df-container\">\n",
              "      <div>\n",
              "<style scoped>\n",
              "    .dataframe tbody tr th:only-of-type {\n",
              "        vertical-align: middle;\n",
              "    }\n",
              "\n",
              "    .dataframe tbody tr th {\n",
              "        vertical-align: top;\n",
              "    }\n",
              "\n",
              "    .dataframe thead th {\n",
              "        text-align: right;\n",
              "    }\n",
              "</style>\n",
              "<table border=\"1\" class=\"dataframe\">\n",
              "  <thead>\n",
              "    <tr style=\"text-align: right;\">\n",
              "      <th></th>\n",
              "      <th>ID</th>\n",
              "      <th>English</th>\n",
              "      <th>Kinyarwanda</th>\n",
              "    </tr>\n",
              "  </thead>\n",
              "  <tbody>\n",
              "    <tr>\n",
              "      <th>0</th>\n",
              "      <td>id_ifvtmxw8</td>\n",
              "      <td>f_all back to threading messages by subject</td>\n",
              "      <td>inyuma kuri ubutumwa ku ikivugwaho</td>\n",
              "    </tr>\n",
              "    <tr>\n",
              "      <th>1</th>\n",
              "      <td>id_sbxupxe3</td>\n",
              "      <td>you will have to restart gimp for the followin...</td>\n",
              "      <td>kuri ongera utangire kugirango i amahinduka ku...</td>\n",
              "    </tr>\n",
              "    <tr>\n",
              "      <th>2</th>\n",
              "      <td>id_zocz3pxq</td>\n",
              "      <td>the radio button whose group this widget belon...</td>\n",
              "      <td>akabuto bya itsinda iyi kuri</td>\n",
              "    </tr>\n",
              "    <tr>\n",
              "      <th>3</th>\n",
              "      <td>id_6avbj1ys</td>\n",
              "      <td>print all subdirectories in a directory.</td>\n",
              "      <td>byose ububiko bwungirije in a bushyinguro</td>\n",
              "    </tr>\n",
              "    <tr>\n",
              "      <th>4</th>\n",
              "      <td>id_fw4v44wk</td>\n",
              "      <td>paste the contents of the clipboard as a new i...</td>\n",
              "      <td>i ibigize bya i ububikokoporora nka a gishya i...</td>\n",
              "    </tr>\n",
              "    <tr>\n",
              "      <th>...</th>\n",
              "      <td>...</td>\n",
              "      <td>...</td>\n",
              "      <td>...</td>\n",
              "    </tr>\n",
              "    <tr>\n",
              "      <th>20585</th>\n",
              "      <td>id_t3d2ird5</td>\n",
              "      <td>yes. we plan to support major ccd cameras and ...</td>\n",
              "      <td>. kuri gushigikira na na gushigikira ya: biren...</td>\n",
              "    </tr>\n",
              "    <tr>\n",
              "      <th>20586</th>\n",
              "      <td>id_jwvp5zdj</td>\n",
              "      <td>most likely you did not configure correctly (o...</td>\n",
              "      <td>oya kugena imiterere (cyangwa oya ku byose?) i...</td>\n",
              "    </tr>\n",
              "    <tr>\n",
              "      <th>20587</th>\n",
              "      <td>id_li4baed3</td>\n",
              "      <td>... too numerous others to mention who also le...</td>\n",
              "      <td>... ibindi: kuri na bayite bya bidakora</td>\n",
              "    </tr>\n",
              "    <tr>\n",
              "      <th>20588</th>\n",
              "      <td>id_jmr2t84u</td>\n",
              "      <td>&amp; kiten; can deinflect verbs you search for. t...</td>\n",
              "      <td>&amp; kiten; shakisha ya:. gushoboza iyi, ubwoko i...</td>\n",
              "    </tr>\n",
              "    <tr>\n",
              "      <th>20589</th>\n",
              "      <td>id_3bg7kz98</td>\n",
              "      <td>next you will find a full overview on all comm...</td>\n",
              "      <td>gushaka a cyuzuye incamake ku byose amabwiriza...</td>\n",
              "    </tr>\n",
              "  </tbody>\n",
              "</table>\n",
              "<p>20590 rows × 3 columns</p>\n",
              "</div>\n",
              "      <button class=\"colab-df-convert\" onclick=\"convertToInteractive('df-badb799d-b79d-4feb-9a56-d77a86f0ccdf')\"\n",
              "              title=\"Convert this dataframe to an interactive table.\"\n",
              "              style=\"display:none;\">\n",
              "        \n",
              "  <svg xmlns=\"http://www.w3.org/2000/svg\" height=\"24px\"viewBox=\"0 0 24 24\"\n",
              "       width=\"24px\">\n",
              "    <path d=\"M0 0h24v24H0V0z\" fill=\"none\"/>\n",
              "    <path d=\"M18.56 5.44l.94 2.06.94-2.06 2.06-.94-2.06-.94-.94-2.06-.94 2.06-2.06.94zm-11 1L8.5 8.5l.94-2.06 2.06-.94-2.06-.94L8.5 2.5l-.94 2.06-2.06.94zm10 10l.94 2.06.94-2.06 2.06-.94-2.06-.94-.94-2.06-.94 2.06-2.06.94z\"/><path d=\"M17.41 7.96l-1.37-1.37c-.4-.4-.92-.59-1.43-.59-.52 0-1.04.2-1.43.59L10.3 9.45l-7.72 7.72c-.78.78-.78 2.05 0 2.83L4 21.41c.39.39.9.59 1.41.59.51 0 1.02-.2 1.41-.59l7.78-7.78 2.81-2.81c.8-.78.8-2.07 0-2.86zM5.41 20L4 18.59l7.72-7.72 1.47 1.35L5.41 20z\"/>\n",
              "  </svg>\n",
              "      </button>\n",
              "      \n",
              "  <style>\n",
              "    .colab-df-container {\n",
              "      display:flex;\n",
              "      flex-wrap:wrap;\n",
              "      gap: 12px;\n",
              "    }\n",
              "\n",
              "    .colab-df-convert {\n",
              "      background-color: #E8F0FE;\n",
              "      border: none;\n",
              "      border-radius: 50%;\n",
              "      cursor: pointer;\n",
              "      display: none;\n",
              "      fill: #1967D2;\n",
              "      height: 32px;\n",
              "      padding: 0 0 0 0;\n",
              "      width: 32px;\n",
              "    }\n",
              "\n",
              "    .colab-df-convert:hover {\n",
              "      background-color: #E2EBFA;\n",
              "      box-shadow: 0px 1px 2px rgba(60, 64, 67, 0.3), 0px 1px 3px 1px rgba(60, 64, 67, 0.15);\n",
              "      fill: #174EA6;\n",
              "    }\n",
              "\n",
              "    [theme=dark] .colab-df-convert {\n",
              "      background-color: #3B4455;\n",
              "      fill: #D2E3FC;\n",
              "    }\n",
              "\n",
              "    [theme=dark] .colab-df-convert:hover {\n",
              "      background-color: #434B5C;\n",
              "      box-shadow: 0px 1px 3px 1px rgba(0, 0, 0, 0.15);\n",
              "      filter: drop-shadow(0px 1px 2px rgba(0, 0, 0, 0.3));\n",
              "      fill: #FFFFFF;\n",
              "    }\n",
              "  </style>\n",
              "\n",
              "      <script>\n",
              "        const buttonEl =\n",
              "          document.querySelector('#df-badb799d-b79d-4feb-9a56-d77a86f0ccdf button.colab-df-convert');\n",
              "        buttonEl.style.display =\n",
              "          google.colab.kernel.accessAllowed ? 'block' : 'none';\n",
              "\n",
              "        async function convertToInteractive(key) {\n",
              "          const element = document.querySelector('#df-badb799d-b79d-4feb-9a56-d77a86f0ccdf');\n",
              "          const dataTable =\n",
              "            await google.colab.kernel.invokeFunction('convertToInteractive',\n",
              "                                                     [key], {});\n",
              "          if (!dataTable) return;\n",
              "\n",
              "          const docLinkHtml = 'Like what you see? Visit the ' +\n",
              "            '<a target=\"_blank\" href=https://colab.research.google.com/notebooks/data_table.ipynb>data table notebook</a>'\n",
              "            + ' to learn more about interactive tables.';\n",
              "          element.innerHTML = '';\n",
              "          dataTable['output_type'] = 'display_data';\n",
              "          await google.colab.output.renderOutput(dataTable, element);\n",
              "          const docLink = document.createElement('div');\n",
              "          docLink.innerHTML = docLinkHtml;\n",
              "          element.appendChild(docLink);\n",
              "        }\n",
              "      </script>\n",
              "    </div>\n",
              "  </div>\n",
              "  "
            ]
          },
          "metadata": {},
          "execution_count": 28
        }
      ],
      "source": [
        "import string\n",
        "import pandas as pd\n",
        "\n",
        "df = pd.read_csv('Eng_Kin-Paralleldata (1).csv')\n",
        "df_back = df\n",
        "df_back= df_back.applymap(lambda s:s.lower() if type(s) == str else s)\n",
        "#df_back_p = df_back.applymap(lambda s: s.translate(str.maketrans('', '', string.punctuation)))\n",
        "\n",
        "df_back\n",
        "\n",
        "\n"
      ]
    },
    {
      "cell_type": "code",
      "source": [],
      "metadata": {
        "id": "tOD7lbi8C3hy"
      },
      "execution_count": 1,
      "outputs": []
    },
    {
      "cell_type": "code",
      "source": [
        "# new_email= pd.DataFrame({\"ID\":['idbfbv'],\n",
        "#                          \"English\":['www.school.com njfdj njdsjnksd gga@gmail.com dbsdhbds'],\n",
        "#                          \"Kinyarwanda\":['a@gmail.com www.huza.com']\n",
        "#                         })\n",
        "# new_email"
      ],
      "metadata": {
        "id": "mbZdry2YCu2W"
      },
      "execution_count": 2,
      "outputs": []
    },
    {
      "cell_type": "code",
      "source": [
        "# new_variable = df_back.append(new_email)\n",
        "# new_links = df\n",
        "# new_variable.tail(5)"
      ],
      "metadata": {
        "id": "x95S14Y_DE8K"
      },
      "execution_count": 3,
      "outputs": []
    },
    {
      "cell_type": "code",
      "source": [],
      "metadata": {
        "id": "qmjYeTo3HfWC"
      },
      "execution_count": 3,
      "outputs": []
    },
    {
      "cell_type": "code",
      "source": [
        "import re\n",
        "all_email=[]\n",
        "all_links=[]\n",
        "regex = r'\\b[A-Za-z0-9._%+-]+@[A-Za-z0-9.-]+\\.[A-Z|a-z]{2,}\\b'\n",
        "regexL= r'https?://(?:[-\\w.]|(?:%[\\da-fA-F]{2}))+'\n",
        "#regexL = r\"(?i)\\b((?:https?://|www\\d{0,3}[.]|[a-z0-9.\\-]+[.][a-z]{2,4}/)(?:[^\\s()<>]+|\\(([^\\s()<>]+|(\\([^\\s()<>]+\\)))*\\))+(?:\\(([^\\s()<>]+|(\\([^\\s()<>]+\\)))*\\)|[^\\s`!()\\[\\]{};:'\\\".,<>?«»“”‘’]))\"\n",
        "def check(email):\n",
        "  new_words = email.split()\n",
        "  for n in new_words:\n",
        "     if(re.fullmatch(regex, n)):\n",
        "          all_email.append(n)\n",
        "     elif(re.fullmatch(regexL,n)):\n",
        "       all_links.append(n)\n",
        " \n",
        "df_back= df_back.applymap(lambda s:check(s) )\n",
        "all_email,all_links\n"
      ],
      "metadata": {
        "colab": {
          "base_uri": "https://localhost:8080/"
        },
        "id": "0LUtLwQP2xC1",
        "outputId": "31d7c4c1-753b-416a-e326-6db0433b63f8"
      },
      "execution_count": 4,
      "outputs": [
        {
          "output_type": "execute_result",
          "data": {
            "text/plain": [
              "(['dia-list@gnome.org', 'seth@gnome.org', 'user@example.com'],\n",
              " ['http://autogen.sourceforge.net',\n",
              "  'http://www.wikipedia.org',\n",
              "  'http://autogen.sourceforge.net.',\n",
              "  'http://anjuta.org',\n",
              "  'http://anjuta.org.',\n",
              "  'http://www',\n",
              "  'http://www.abisource.com',\n",
              "  'http://www.example.com',\n",
              "  'http://www.example.com'])"
            ]
          },
          "metadata": {},
          "execution_count": 4
        }
      ]
    },
    {
      "cell_type": "code",
      "source": [
        "!pip install pyenchant\n"
      ],
      "metadata": {
        "colab": {
          "base_uri": "https://localhost:8080/"
        },
        "id": "zGPRLURYBWMJ",
        "outputId": "b59f824b-391a-42ed-d454-958d97649f4a"
      },
      "execution_count": 21,
      "outputs": [
        {
          "output_type": "stream",
          "name": "stdout",
          "text": [
            "Looking in indexes: https://pypi.org/simple, https://us-python.pkg.dev/colab-wheels/public/simple/\n",
            "Requirement already satisfied: pyenchant in /usr/local/lib/python3.7/dist-packages (3.2.2)\n"
          ]
        }
      ]
    },
    {
      "cell_type": "code",
      "source": [
        "import enchant\n",
        "d = enchant.Dict(\"en_US\")\n",
        "print(d.check(\"Hello\"))"
      ],
      "metadata": {
        "colab": {
          "base_uri": "https://localhost:8080/",
          "height": 536
        },
        "id": "MVjV0Oe-NtPr",
        "outputId": "027cdb0a-7e87-473e-8f2b-690aeee96eb6"
      },
      "execution_count": 24,
      "outputs": [
        {
          "output_type": "error",
          "ename": "ImportError",
          "evalue": "ignored",
          "traceback": [
            "\u001b[0;31m---------------------------------------------------------------------------\u001b[0m",
            "\u001b[0;31mImportError\u001b[0m                               Traceback (most recent call last)",
            "\u001b[0;32m<ipython-input-24-8d0fbf75d700>\u001b[0m in \u001b[0;36m<module>\u001b[0;34m\u001b[0m\n\u001b[0;32m----> 1\u001b[0;31m \u001b[0;32mimport\u001b[0m \u001b[0menchant\u001b[0m\u001b[0;34m\u001b[0m\u001b[0;34m\u001b[0m\u001b[0m\n\u001b[0m\u001b[1;32m      2\u001b[0m \u001b[0md\u001b[0m \u001b[0;34m=\u001b[0m \u001b[0menchant\u001b[0m\u001b[0;34m.\u001b[0m\u001b[0mDict\u001b[0m\u001b[0;34m(\u001b[0m\u001b[0;34m\"en_US\"\u001b[0m\u001b[0;34m)\u001b[0m\u001b[0;34m\u001b[0m\u001b[0;34m\u001b[0m\u001b[0m\n\u001b[1;32m      3\u001b[0m \u001b[0mprint\u001b[0m\u001b[0;34m(\u001b[0m\u001b[0md\u001b[0m\u001b[0;34m.\u001b[0m\u001b[0mcheck\u001b[0m\u001b[0;34m(\u001b[0m\u001b[0;34m\"Hello\"\u001b[0m\u001b[0;34m)\u001b[0m\u001b[0;34m)\u001b[0m\u001b[0;34m\u001b[0m\u001b[0;34m\u001b[0m\u001b[0m\n",
            "\u001b[0;32m/usr/local/lib/python3.7/dist-packages/enchant/__init__.py\u001b[0m in \u001b[0;36m<module>\u001b[0;34m\u001b[0m\n\u001b[1;32m     79\u001b[0m \u001b[0;34m\u001b[0m\u001b[0m\n\u001b[1;32m     80\u001b[0m \u001b[0;32mtry\u001b[0m\u001b[0;34m:\u001b[0m\u001b[0;34m\u001b[0m\u001b[0;34m\u001b[0m\u001b[0m\n\u001b[0;32m---> 81\u001b[0;31m     \u001b[0;32mfrom\u001b[0m \u001b[0menchant\u001b[0m \u001b[0;32mimport\u001b[0m \u001b[0m_enchant\u001b[0m \u001b[0;32mas\u001b[0m \u001b[0m_e\u001b[0m\u001b[0;34m\u001b[0m\u001b[0;34m\u001b[0m\u001b[0m\n\u001b[0m\u001b[1;32m     82\u001b[0m \u001b[0;32mexcept\u001b[0m \u001b[0mImportError\u001b[0m\u001b[0;34m:\u001b[0m\u001b[0;34m\u001b[0m\u001b[0;34m\u001b[0m\u001b[0m\n\u001b[1;32m     83\u001b[0m     \u001b[0;32mif\u001b[0m \u001b[0;32mnot\u001b[0m \u001b[0mos\u001b[0m\u001b[0;34m.\u001b[0m\u001b[0menviron\u001b[0m\u001b[0;34m.\u001b[0m\u001b[0mget\u001b[0m\u001b[0;34m(\u001b[0m\u001b[0;34m\"PYENCHANT_IGNORE_MISSING_LIB\"\u001b[0m\u001b[0;34m,\u001b[0m \u001b[0;32mFalse\u001b[0m\u001b[0;34m)\u001b[0m\u001b[0;34m:\u001b[0m\u001b[0;34m\u001b[0m\u001b[0;34m\u001b[0m\u001b[0m\n",
            "\u001b[0;32m/usr/local/lib/python3.7/dist-packages/enchant/_enchant.py\u001b[0m in \u001b[0;36m<module>\u001b[0;34m\u001b[0m\n\u001b[1;32m    155\u001b[0m         \"\"\"\n\u001b[1;32m    156\u001b[0m     )\n\u001b[0;32m--> 157\u001b[0;31m     \u001b[0;32mraise\u001b[0m \u001b[0mImportError\u001b[0m\u001b[0;34m(\u001b[0m\u001b[0mmsg\u001b[0m\u001b[0;34m)\u001b[0m\u001b[0;34m\u001b[0m\u001b[0;34m\u001b[0m\u001b[0m\n\u001b[0m\u001b[1;32m    158\u001b[0m \u001b[0;34m\u001b[0m\u001b[0m\n\u001b[1;32m    159\u001b[0m \u001b[0;34m\u001b[0m\u001b[0m\n",
            "\u001b[0;31mImportError\u001b[0m: The 'enchant' C library was not found and maybe needs to be installed.\nSee  https://pyenchant.github.io/pyenchant/install.html\nfor details\n",
            "",
            "\u001b[0;31m---------------------------------------------------------------------------\u001b[0;32m\nNOTE: If your import is failing due to a missing package, you can\nmanually install dependencies using either !pip or !apt.\n\nTo view examples of installing some common dependencies, click the\n\"Open Examples\" button below.\n\u001b[0;31m---------------------------------------------------------------------------\u001b[0m\n"
          ],
          "errorDetails": {
            "actions": [
              {
                "action": "open_url",
                "actionText": "Open Examples",
                "url": "/notebooks/snippets/importing_libraries.ipynb"
              }
            ]
          }
        }
      ]
    },
    {
      "cell_type": "code",
      "source": [
        "! pip install english-words"
      ],
      "metadata": {
        "colab": {
          "base_uri": "https://localhost:8080/"
        },
        "id": "h8r1gzBgmcb2",
        "outputId": "cb1140c5-6b0e-4b51-adda-093ca58de41d"
      },
      "execution_count": 25,
      "outputs": [
        {
          "output_type": "stream",
          "name": "stdout",
          "text": [
            "Looking in indexes: https://pypi.org/simple, https://us-python.pkg.dev/colab-wheels/public/simple/\n",
            "Collecting english-words\n",
            "  Downloading english-words-1.1.0.tar.gz (1.1 MB)\n",
            "\u001b[K     |████████████████████████████████| 1.1 MB 14.8 MB/s \n",
            "\u001b[?25hBuilding wheels for collected packages: english-words\n",
            "  Building wheel for english-words (setup.py) ... \u001b[?25l\u001b[?25hdone\n",
            "  Created wheel for english-words: filename=english_words-1.1.0-py3-none-any.whl size=1106680 sha256=cd0a593ca0e205d9885787f5365cee00f36bbe70ffa8b00721abb0bbce3f57b8\n",
            "  Stored in directory: /root/.cache/pip/wheels/25/3d/4c/12a119ce90b46b4f90f9ddf41d719ecabb40faec6103379fc8\n",
            "Successfully built english-words\n",
            "Installing collected packages: english-words\n",
            "Successfully installed english-words-1.1.0\n"
          ]
        }
      ]
    },
    {
      "cell_type": "code",
      "source": [
        "from english_words import english_words_set\n",
        "'' in english_words_set\n"
      ],
      "metadata": {
        "colab": {
          "base_uri": "https://localhost:8080/"
        },
        "id": "95pxbKbsmjNA",
        "outputId": "7878870f-6a7f-42f6-c160-4052974539b6"
      },
      "execution_count": 26,
      "outputs": [
        {
          "output_type": "execute_result",
          "data": {
            "text/plain": [
              "True"
            ]
          },
          "metadata": {},
          "execution_count": 26
        }
      ]
    },
    {
      "cell_type": "code",
      "source": [
        "df_back_p = df_back.applymap(lambda s: s.translate(str.maketrans('', '', string.punctuation)))\n",
        "kinya =df_back_p['Kinyarwanda']\n",
        "lists=[]\n",
        "for key,i in enumerate(kinya):\n",
        "  if key<10 :\n",
        "    lists.append(i)\n",
        "\n",
        "  \n",
        "  #print(f'{key} : {i}')\n",
        "\n",
        "lists"
      ],
      "metadata": {
        "colab": {
          "base_uri": "https://localhost:8080/"
        },
        "id": "aaxbue2Lmx8d",
        "outputId": "e09eb628-4327-486d-da99-e301b1c03f59"
      },
      "execution_count": 39,
      "outputs": [
        {
          "output_type": "execute_result",
          "data": {
            "text/plain": [
              "['inyuma kuri ubutumwa ku ikivugwaho',\n",
              " 'kuri ongera utangire kugirango i amahinduka kuri ingaruka',\n",
              " 'akabuto bya itsinda iyi kuri',\n",
              " 'byose ububiko bwungirije in a bushyinguro',\n",
              " 'i ibigize bya i ububikokoporora nka a gishya ishusho niba i ububikokoporora ifite a byemewe agashushondanga',\n",
              " 'bivuye bya uduciro in idosiye',\n",
              " 'kuri i log idosiye kugaragaza na i log idosiye ku disiki 1',\n",
              " 'kuri i ibanjirije akamenyetso in i idosiye',\n",
              " 'ibisobanuro bigyanye i inyandikorugero ibihinduka ibyinjijwe impapuromisusire na',\n",
              " 'urufunguzo ni byakoreshejwe ya kabiri ryari ni na kanda i urufunguzo nka ryari kanda ku i kuhagarara akabuto cyangwa i icyinjijwe bya i ibikubiyemo ni kuhagarara kanda i urufunguzo ryari oya ni  kmid gukina']"
            ]
          },
          "metadata": {},
          "execution_count": 39
        }
      ]
    },
    {
      "cell_type": "markdown",
      "metadata": {
        "id": "v1o7NXU_KOk-"
      },
      "source": [
        "Standardizing (case normalization) and Spell Check\n",
        "Removing Unicode Characters, Punctuation, , etc.,\n",
        "Removing & Finding URL (10%)\n",
        "Removing & Finding Email ID (10%)\n",
        "Removing English and other foreign languages from Kinyarwanda\n"
      ]
    }
  ],
  "metadata": {
    "colab": {
      "provenance": [],
      "mount_file_id": "1xrT34XjAdOKmJPpkR2rPuGNAzCWBdDy5",
      "authorship_tag": "ABX9TyMf7mIcu+pGfPyGXEvpWz9s",
      "include_colab_link": true
    },
    "kernelspec": {
      "display_name": "Python 3",
      "name": "python3"
    },
    "language_info": {
      "name": "python"
    },
    "accelerator": "GPU"
  },
  "nbformat": 4,
  "nbformat_minor": 0
}